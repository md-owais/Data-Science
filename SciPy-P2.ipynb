{
 "cells": [
  {
   "cell_type": "markdown",
   "id": "dbe3539a",
   "metadata": {},
   "source": [
    "# SciPy Optimizers"
   ]
  },
  {
   "cell_type": "code",
   "execution_count": 4,
   "id": "8d64ecc8",
   "metadata": {},
   "outputs": [
    {
     "name": "stdout",
     "output_type": "stream",
     "text": [
      "[-0.73908513]\n"
     ]
    }
   ],
   "source": [
    "'''Optimizers in SciPy\n",
    "Optimizers are a set of procedures defined in SciPy that either find the minimum value of a function, or the root of an equation.\n",
    "\n",
    "Optimizing Functions\n",
    "Essentially, all of the algorithms in Machine Learning are nothing more than a complex equation that needs to be minimized with the help of given data.\n",
    "\n",
    "Roots of an Equation\n",
    "NumPy is capable of finding roots for polynomials and linear equations, but it can not find roots for non linear equations, like this one:\n",
    "\n",
    "x + cos(x)\n",
    "\n",
    "For that you can use SciPy's optimize.root function.\n",
    "\n",
    "This function takes two required arguments:\n",
    "\n",
    "fun - a function representing an equation.\n",
    "\n",
    "x0 - an initial guess for the root.\n",
    "\n",
    "The function returns an object with information regarding the solution.\n",
    "\n",
    "The actual solution is given under attribute x of the returned object:\n",
    "'''\n",
    "#Find root of the equation x + cos(x):\n",
    "from scipy.optimize import root\n",
    "from math import cos\n",
    "\n",
    "def eqn(x):\n",
    "    return x + cos(x)\n",
    "\n",
    "myroot = root(eqn, 0)\n",
    "\n",
    "print(myroot.x)"
   ]
  },
  {
   "cell_type": "code",
   "execution_count": 5,
   "id": "1e48ce14",
   "metadata": {},
   "outputs": [
    {
     "name": "stdout",
     "output_type": "stream",
     "text": [
      "    fjac: array([[-1.]])\n",
      "     fun: array([0.])\n",
      " message: 'The solution converged.'\n",
      "    nfev: 9\n",
      "     qtf: array([-2.66786593e-13])\n",
      "       r: array([-1.67361202])\n",
      "  status: 1\n",
      " success: True\n",
      "       x: array([-0.73908513])\n"
     ]
    }
   ],
   "source": [
    "#Print all information about the solution (not just x which is the root)\n",
    "print(myroot)"
   ]
  },
  {
   "cell_type": "code",
   "execution_count": 6,
   "id": "60f4684a",
   "metadata": {},
   "outputs": [
    {
     "name": "stdout",
     "output_type": "stream",
     "text": [
      "      fun: 1.75\n",
      " hess_inv: array([[0.50000001]])\n",
      "      jac: array([0.])\n",
      "  message: 'Optimization terminated successfully.'\n",
      "     nfev: 8\n",
      "      nit: 2\n",
      "     njev: 4\n",
      "   status: 0\n",
      "  success: True\n",
      "        x: array([-0.50000001])\n"
     ]
    }
   ],
   "source": [
    "'''Minimizing a Function\n",
    "A function, in this context, represents a curve, curves have high points and low points.\n",
    "\n",
    "High points are called maxima.\n",
    "\n",
    "Low points are called minima.\n",
    "\n",
    "The highest point in the whole curve is called global maxima, whereas the rest of them are called local maxima.\n",
    "\n",
    "The lowest point in whole curve is called global minima, whereas the rest of them are called local minima.\n",
    "\n",
    "Finding Minima\n",
    "We can use scipy.optimize.minimize() function to minimize the function.\n",
    "\n",
    "The minimize() function takes the following arguments:\n",
    "\n",
    "fun - a function representing an equation.\n",
    "\n",
    "x0 - an initial guess for the root.\n",
    "\n",
    "method - name of the method to use. Legal values:\n",
    "    'CG'\n",
    "    'BFGS'\n",
    "    'Newton-CG'\n",
    "    'L-BFGS-B'\n",
    "    'TNC'\n",
    "    'COBYLA'\n",
    "    'SLSQP'\n",
    "\n",
    "callback - function called after each iteration of optimization.\n",
    "\n",
    "options - a dictionary defining extra params:\n",
    "\n",
    "{\n",
    "     \"disp\": boolean - print detailed description\n",
    "     \"gtol\": number - the tolerance of the error\n",
    "  }\n",
    "Example\n",
    "Minimize the function x^2 + x + 2 with BFGS:\n",
    "'''\n",
    "from scipy.optimize import minimize\n",
    "\n",
    "def eqn(x):\n",
    "      return x**2 + x + 2\n",
    "\n",
    "mymin = minimize(eqn, 0, method='BFGS')\n",
    "\n",
    "print(mymin)"
   ]
  },
  {
   "cell_type": "markdown",
   "id": "4503f815",
   "metadata": {},
   "source": [
    "# SciPy Sparse Data"
   ]
  },
  {
   "cell_type": "code",
   "execution_count": 8,
   "id": "f24dff71",
   "metadata": {},
   "outputs": [
    {
     "name": "stdout",
     "output_type": "stream",
     "text": [
      "  (0, 5)\t1\n",
      "  (0, 6)\t1\n",
      "  (0, 8)\t2\n"
     ]
    }
   ],
   "source": [
    "'''What is Sparse Data\n",
    "Sparse data is data that has mostly unused elements (elements that don't carry any information ).\n",
    "\n",
    "It can be an array like this one:\n",
    "\n",
    "[1, 0, 2, 0, 0, 3, 0, 0, 0, 0, 0, 0]\n",
    "\n",
    "Sparse Data: is a data set where most of the item values are zero.\n",
    "\n",
    "Dense Array: is the opposite of a sparse array: most of the values are not zero.\n",
    "\n",
    "In scientific computing, when we are dealing with partial derivatives in linear algebra we will come across sparse data.\n",
    "\n",
    "How to Work With Sparse Data\n",
    "SciPy has a module, scipy.sparse that provides functions to deal with sparse data.\n",
    "\n",
    "There are primarily two types of sparse matrices that we use:\n",
    "\n",
    "CSC - Compressed Sparse Column. For efficient arithmetic, fast column slicing.\n",
    "\n",
    "CSR - Compressed Sparse Row. For fast row slicing, faster matrix vector products\n",
    "\n",
    "We will use the CSR matrix in this tutorial.\n",
    "\n",
    "CSR Matrix\n",
    "We can create CSR matrix by passing an arrray into function scipy.sparse.csr_matrix().\n",
    "'''\n",
    "import numpy as np\n",
    "from scipy.sparse import csr_matrix\n",
    "arr = np.array([0, 0, 0, 0, 0, 1, 1, 0, 2])\n",
    "print(csr_matrix(arr))"
   ]
  },
  {
   "cell_type": "code",
   "execution_count": 9,
   "id": "878a0794",
   "metadata": {},
   "outputs": [
    {
     "name": "stdout",
     "output_type": "stream",
     "text": [
      "[1 1 2]\n"
     ]
    }
   ],
   "source": [
    "#Sparse Matrix Methods\n",
    "#Viewing stored data (not the zero items) with the data property:\n",
    "import numpy as np\n",
    "from scipy.sparse import csr_matrix\n",
    "arr = np.array([[0, 0, 0], [0, 0, 1], [1, 0, 2]])\n",
    "print(csr_matrix(arr).data)"
   ]
  },
  {
   "cell_type": "code",
   "execution_count": 10,
   "id": "630e58b7",
   "metadata": {},
   "outputs": [
    {
     "name": "stdout",
     "output_type": "stream",
     "text": [
      "3\n"
     ]
    }
   ],
   "source": [
    "#Counting nonzeros with the count_nonzero() method:\n",
    "import numpy as np\n",
    "from scipy.sparse import csr_matrix\n",
    "\n",
    "arr = np.array([[0, 0, 0], [0, 0, 1], [1, 0, 2]])\n",
    "\n",
    "print(csr_matrix(arr).count_nonzero())"
   ]
  },
  {
   "cell_type": "code",
   "execution_count": 11,
   "id": "81585829",
   "metadata": {},
   "outputs": [
    {
     "name": "stdout",
     "output_type": "stream",
     "text": [
      "  (1, 2)\t1\n",
      "  (2, 0)\t1\n",
      "  (2, 2)\t2\n"
     ]
    }
   ],
   "source": [
    "#Removing zero-entries from the matrix with the eliminate_zeros() method:\n",
    "import numpy as np\n",
    "from scipy.sparse import csr_matrix\n",
    "\n",
    "arr = np.array([[0, 0, 0], [0, 0, 1], [1, 0, 2]])\n",
    "mat = csr_matrix(arr)\n",
    "mat.eliminate_zeros()\n",
    "print(mat)"
   ]
  },
  {
   "cell_type": "code",
   "execution_count": 12,
   "id": "ad9d153c",
   "metadata": {},
   "outputs": [
    {
     "name": "stdout",
     "output_type": "stream",
     "text": [
      "  (1, 2)\t1\n",
      "  (2, 0)\t1\n",
      "  (2, 2)\t2\n"
     ]
    }
   ],
   "source": [
    "#Eliminating duplicate entries with the sum_duplicates() method:\n",
    "import numpy as np\n",
    "from scipy.sparse import csr_matrix\n",
    "\n",
    "arr = np.array([[0, 0, 0], [0, 0, 1], [1, 0, 2]])\n",
    "\n",
    "mat = csr_matrix(arr)\n",
    "mat.sum_duplicates()\n",
    "\n",
    "print(mat)"
   ]
  },
  {
   "cell_type": "code",
   "execution_count": 13,
   "id": "9b35efc1",
   "metadata": {},
   "outputs": [
    {
     "name": "stdout",
     "output_type": "stream",
     "text": [
      "  (2, 0)\t1\n",
      "  (1, 2)\t1\n",
      "  (2, 2)\t2\n"
     ]
    }
   ],
   "source": [
    "#Converting from csr to csc with the tocsc() method:\n",
    "import numpy as np\n",
    "from scipy.sparse import csr_matrix\n",
    "\n",
    "arr = np.array([[0, 0, 0], [0, 0, 1], [1, 0, 2]])\n",
    "\n",
    "newarr = csr_matrix(arr).tocsc()\n",
    "\n",
    "print(newarr)\n",
    "\n",
    "#Note: Apart from the mentioned sparse specific operations, sparse matrices support all of the operations that normal matrices support e.g. reshaping, summing, arithemetic, broadcasting etc."
   ]
  },
  {
   "cell_type": "markdown",
   "id": "4b9ecc47",
   "metadata": {},
   "source": [
    "# SciPy Graphs"
   ]
  },
  {
   "cell_type": "code",
   "execution_count": 15,
   "id": "53f9cdb5",
   "metadata": {},
   "outputs": [
    {
     "name": "stdout",
     "output_type": "stream",
     "text": [
      "(1, array([0, 0, 0]))\n"
     ]
    }
   ],
   "source": [
    "'''Working with Graphs\n",
    "Graphs are an essential data structure.\n",
    "\n",
    "SciPy provides us with the module scipy.sparse.csgraph for working with such data structures.\n",
    "\n",
    "Adjacency Matrix\n",
    "Adjacency matrix is a nxn matrix where n is the number of elements in a graph.\n",
    "\n",
    "And the values represents the connection between the elements.\n",
    "\n",
    "Example:\n",
    "\n",
    "\n",
    "For a graph like this, with elements A, B and C, the connections are:\n",
    "\n",
    "A & B are connected with weight 1.\n",
    "\n",
    "A & C are connected with weight 2.\n",
    "\n",
    "C & B is not connected.\n",
    "\n",
    "The Adjency Matrix would look like this:\n",
    "\n",
    "\n",
    "      A B C\n",
    "   A:[0 1 2]  \n",
    "   B:[1 0 0]\n",
    "   C:[2 0 0]\n",
    "\n",
    "Below follows some of the most used methods for working with adjacency matrices.\n",
    "\n",
    "Connected Components\n",
    "Find all of the connected components with the connected_components() method.\n",
    "'''\n",
    "import numpy as np\n",
    "from scipy.sparse.csgraph import connected_components\n",
    "from scipy.sparse import csr_matrix\n",
    "\n",
    "arr = np.array([\n",
    "    [0, 1, 2],\n",
    "    [1, 0, 0],\n",
    "    [2, 0, 0]\n",
    "])\n",
    "newarr = csr_matrix(arr)\n",
    "print(connected_components(newarr))"
   ]
  },
  {
   "cell_type": "markdown",
   "id": "ca05b8c8",
   "metadata": {},
   "source": [
    "# Dijkstra"
   ]
  },
  {
   "cell_type": "code",
   "execution_count": 16,
   "id": "8584748c",
   "metadata": {},
   "outputs": [
    {
     "name": "stdout",
     "output_type": "stream",
     "text": [
      "(array([0., 1., 2.]), array([-9999,     0,     0]))\n"
     ]
    }
   ],
   "source": [
    "'''Use the dijkstra method to find the shortest path in a graph from one element to another.\n",
    "\n",
    "It takes following arguments:\n",
    "\n",
    "return_predecessors: boolean (True to return whole path of traversal otherwise False).\n",
    "indices: index of the element to return all paths from that element only.\n",
    "limit: max weight of path.\n",
    "Example\n",
    "Find the shortest path from element 1 to 2:\n",
    "'''\n",
    "import numpy as np\n",
    "from scipy.sparse.csgraph import dijkstra\n",
    "from scipy.sparse import csr_matrix\n",
    "\n",
    "arr = np.array([\n",
    "  [0, 1, 2],\n",
    "  [1, 0, 0],\n",
    "  [2, 0, 0]\n",
    "])\n",
    "\n",
    "newarr = csr_matrix(arr)\n",
    "\n",
    "print(dijkstra(newarr, return_predecessors=True, indices=0))"
   ]
  },
  {
   "cell_type": "code",
   "execution_count": 17,
   "id": "01069113",
   "metadata": {},
   "outputs": [
    {
     "name": "stdout",
     "output_type": "stream",
     "text": [
      "(array([[0., 1., 2.],\n",
      "       [1., 0., 3.],\n",
      "       [2., 3., 0.]]), array([[-9999,     0,     0],\n",
      "       [    1, -9999,     0],\n",
      "       [    2,     0, -9999]]))\n"
     ]
    }
   ],
   "source": [
    "'''Floyd Warshall\n",
    "Use the floyd_warshall() method to find shortest path between all pairs of elements.\n",
    "\n",
    "Example\n",
    "Find the shortest path between all pairs of elements:\n",
    "'''\n",
    "import numpy as np\n",
    "from scipy.sparse.csgraph import floyd_warshall\n",
    "from scipy.sparse import csr_matrix\n",
    "\n",
    "arr = np.array([\n",
    "  [0, 1, 2],\n",
    "  [1, 0, 0],\n",
    "  [2, 0, 0]\n",
    "])\n",
    "\n",
    "newarr = csr_matrix(arr)\n",
    "\n",
    "print(floyd_warshall(newarr, return_predecessors=True))"
   ]
  },
  {
   "cell_type": "code",
   "execution_count": 18,
   "id": "90d82ebf",
   "metadata": {},
   "outputs": [
    {
     "name": "stdout",
     "output_type": "stream",
     "text": [
      "(array([ 0., -1.,  2.]), array([-9999,     0,     0]))\n"
     ]
    }
   ],
   "source": [
    "'''Bellman Ford\n",
    "The bellman_ford() method can also find the shortest path between all pairs of elements, but this method can handle negative weights as well.\n",
    "\n",
    "Example\n",
    "Find shortest path from element 1 to 2 with given graph with a negative weight:\n",
    "'''\n",
    "import numpy as np\n",
    "from scipy.sparse.csgraph import bellman_ford\n",
    "from scipy.sparse import csr_matrix\n",
    "\n",
    "arr = np.array([\n",
    "  [0, -1, 2],\n",
    "  [1, 0, 0],\n",
    "  [2, 0, 0]\n",
    "])\n",
    "\n",
    "newarr = csr_matrix(arr)\n",
    "\n",
    "print(bellman_ford(newarr, return_predecessors=True, indices=0))"
   ]
  },
  {
   "cell_type": "markdown",
   "id": "8eb9880c",
   "metadata": {},
   "source": [
    "# Depth First Order"
   ]
  },
  {
   "cell_type": "code",
   "execution_count": 19,
   "id": "3b51d6fd",
   "metadata": {},
   "outputs": [
    {
     "name": "stdout",
     "output_type": "stream",
     "text": [
      "(array([1, 0, 3, 2]), array([    1, -9999,     1,     0]))\n"
     ]
    }
   ],
   "source": [
    "'''The depth_first_order() method returns a depth first traversal from a node.\n",
    "\n",
    "This function takes following arguments:\n",
    "\n",
    "the graph.\n",
    "the starting element to traverse graph from.\n",
    "Example\n",
    "Traverse the graph depth first for given adjacency matrix:\n",
    "'''\n",
    "import numpy as np\n",
    "from scipy.sparse.csgraph import depth_first_order\n",
    "from scipy.sparse import csr_matrix\n",
    "\n",
    "arr = np.array([\n",
    "  [0, 1, 0, 1],\n",
    "  [1, 1, 1, 1],\n",
    "  [2, 1, 1, 0],\n",
    "  [0, 1, 0, 1]\n",
    "])\n",
    "\n",
    "newarr = csr_matrix(arr)\n",
    "\n",
    "print(depth_first_order(newarr, 1))"
   ]
  },
  {
   "cell_type": "markdown",
   "id": "01dc07e1",
   "metadata": {},
   "source": [
    "# Breadth First Order"
   ]
  },
  {
   "cell_type": "code",
   "execution_count": 20,
   "id": "d89198ec",
   "metadata": {},
   "outputs": [
    {
     "name": "stdout",
     "output_type": "stream",
     "text": [
      "(array([1, 0, 2, 3]), array([    1, -9999,     1,     1]))\n"
     ]
    }
   ],
   "source": [
    "'''The breadth_first_order() method returns a breadth first traversal from a node.\n",
    "\n",
    "This function takes following arguments:\n",
    "\n",
    "the graph.\n",
    "the starting element to traverse graph from.\n",
    "Example\n",
    "Traverse the graph breadth first for given adjacency matrix:\n",
    "'''\n",
    "import numpy as np\n",
    "from scipy.sparse.csgraph import breadth_first_order\n",
    "from scipy.sparse import csr_matrix\n",
    "\n",
    "arr = np.array([\n",
    "  [0, 1, 0, 1],\n",
    "  [1, 1, 1, 1],\n",
    "  [2, 1, 1, 0],\n",
    "  [0, 1, 0, 1]\n",
    "])\n",
    "\n",
    "newarr = csr_matrix(arr)\n",
    "\n",
    "print(breadth_first_order(newarr, 1))"
   ]
  },
  {
   "cell_type": "code",
   "execution_count": null,
   "id": "9a654092",
   "metadata": {},
   "outputs": [],
   "source": []
  },
  {
   "cell_type": "code",
   "execution_count": null,
   "id": "b253dff9",
   "metadata": {},
   "outputs": [],
   "source": []
  },
  {
   "cell_type": "code",
   "execution_count": null,
   "id": "27bf75d1",
   "metadata": {},
   "outputs": [],
   "source": []
  }
 ],
 "metadata": {
  "kernelspec": {
   "display_name": "Python 3",
   "language": "python",
   "name": "python3"
  },
  "language_info": {
   "codemirror_mode": {
    "name": "ipython",
    "version": 3
   },
   "file_extension": ".py",
   "mimetype": "text/x-python",
   "name": "python",
   "nbconvert_exporter": "python",
   "pygments_lexer": "ipython3",
   "version": "3.8.8"
  }
 },
 "nbformat": 4,
 "nbformat_minor": 5
}
