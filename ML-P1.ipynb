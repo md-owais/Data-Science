{
 "cells": [
  {
   "cell_type": "markdown",
   "id": "8034061e",
   "metadata": {},
   "source": [
    "# Machine Learning - Mean Median"
   ]
  },
  {
   "cell_type": "code",
   "execution_count": 1,
   "id": "d06ade23",
   "metadata": {},
   "outputs": [
    {
     "name": "stdout",
     "output_type": "stream",
     "text": [
      "89.76923076923077\n"
     ]
    }
   ],
   "source": [
    "'''Mean, Median, and Mode\n",
    "What can we learn from looking at a group of numbers?\n",
    "\n",
    "In Machine Learning (and in mathematics) there are often three values that interests us:\n",
    "\n",
    "Mean - The average value\n",
    "Median - The mid point value\n",
    "Mode - The most common value\n",
    "Example: We have registered the speed of 13 cars:\n",
    "\n",
    "speed = [99,86,87,88,111,86,103,87,94,78,77,85,86]\n",
    "\n",
    "What is the average, the middle, or the most common speed value?\n",
    "\n",
    "Mean\n",
    "The mean value is the average value.\n",
    "\n",
    "To calculate the mean, find the sum of all values, and divide the sum by the number of values:\n",
    "\n",
    "(99+86+87+88+111+86+103+87+94+78+77+85+86) / 13 = 89.77\n",
    "'''\n",
    "import numpy\n",
    "speed = [99,86,87,88,111,86,103,87,94,78,77,85,86]\n",
    "x = numpy.mean(speed)\n",
    "print(x)"
   ]
  },
  {
   "cell_type": "code",
   "execution_count": 2,
   "id": "6492e7c9",
   "metadata": {},
   "outputs": [
    {
     "name": "stdout",
     "output_type": "stream",
     "text": [
      "87.0\n"
     ]
    }
   ],
   "source": [
    "'''Median\n",
    "The median value is the value in the middle, after you have sorted all the values:\n",
    "\n",
    "77, 78, 85, 86, 86, 86, 87, 87, 88, 94, 99, 103, 111\n",
    "\n",
    "It is important that the numbers are sorted before you can find the median.\n",
    "\n",
    "The NumPy module has a method for this:\n",
    "\n",
    "Example\n",
    "Use the NumPy median() method to find the middle value:\n",
    "'''\n",
    "import numpy as np\n",
    "speed = [99,86,87,88,111,86,103,87,94,78,77,85,86]\n",
    "x = np.median(speed)\n",
    "print(x)"
   ]
  },
  {
   "cell_type": "code",
   "execution_count": 3,
   "id": "1ca259e2",
   "metadata": {},
   "outputs": [
    {
     "name": "stdout",
     "output_type": "stream",
     "text": [
      "86.5\n"
     ]
    }
   ],
   "source": [
    "'''If there are two numbers in the middle, divide the sum of those numbers by two.\n",
    "\n",
    "77, 78, 85, 86, 86, 86, 87, 87, 94, 98, 99, 103\n",
    "\n",
    "(86 + 87) / 2 = 86.5\n",
    "\n",
    "Example\n",
    "Using the NumPy module:\n",
    "'''\n",
    "import numpy as np\n",
    "speed = [99,86,87,88,86,103,87,94,78,77,85,86]\n",
    "x = np.median(speed)\n",
    "print(x)"
   ]
  },
  {
   "cell_type": "code",
   "execution_count": 4,
   "id": "6f6dc784",
   "metadata": {},
   "outputs": [
    {
     "name": "stdout",
     "output_type": "stream",
     "text": [
      "ModeResult(mode=array([86]), count=array([3]))\n"
     ]
    }
   ],
   "source": [
    "'''Mode\n",
    "The Mode value is the value that appears the most number of times:\n",
    "\n",
    "99, 86, 87, 88, 111, 86, 103, 87, 94, 78, 77, 85, 86 = 86\n",
    "Example\n",
    "Use the SciPy mode() method to find the number that appears the most:\n",
    "'''\n",
    "from scipy import stats\n",
    "speed = [99,86,87,88,111,86,103,87,94,78,77,85,86]\n",
    "x = stats.mode(speed)\n",
    "print(x)"
   ]
  },
  {
   "cell_type": "markdown",
   "id": "43caadd4",
   "metadata": {},
   "source": [
    "# Machine Learning - Standard Deviation"
   ]
  },
  {
   "cell_type": "code",
   "execution_count": 5,
   "id": "ad4e377b",
   "metadata": {},
   "outputs": [
    {
     "name": "stdout",
     "output_type": "stream",
     "text": [
      "0.9035079029052513\n"
     ]
    }
   ],
   "source": [
    "'''What is Standard Deviation?\n",
    "Standard deviation is a number that describes how spread out the values are.\n",
    "\n",
    "A low standard deviation means that most of the numbers are close to the mean (average) value.\n",
    "\n",
    "A high standard deviation means that the values are spread out over a wider range.\n",
    "\n",
    "Example: This time we have registered the speed of 7 cars:\n",
    "\n",
    "speed = [86,87,88,86,87,85,86]\n",
    "\n",
    "The standard deviation is:\n",
    "\n",
    "0.9\n",
    "\n",
    "Meaning that most of the values are within the range of 0.9 from the mean value, which is 86.4.\n",
    "\n",
    "Let us do the same with a selection of numbers with a wider range:\n",
    "\n",
    "speed = [32,111,138,28,59,77,97]\n",
    "\n",
    "The standard deviation is:\n",
    "\n",
    "37.85\n",
    "\n",
    "Meaning that most of the values are within the range of 37.85 from the mean value, which is 77.4.\n",
    "\n",
    "As you can see, a higher standard deviation indicates that the values are spread out over a wider range.\n",
    "\n",
    "The NumPy module has a method to calculate the standard deviation:\n",
    "'''\n",
    "#Use the NumPy std() method to find the standard deviation:\n",
    "import numpy as np\n",
    "speed = [86,87,88,86,87,85,86]\n",
    "x = numpy.std(speed)\n",
    "print(x)"
   ]
  },
  {
   "cell_type": "code",
   "execution_count": 6,
   "id": "6d64fb88",
   "metadata": {},
   "outputs": [
    {
     "name": "stdout",
     "output_type": "stream",
     "text": [
      "1432.2448979591834\n"
     ]
    }
   ],
   "source": [
    "'''Variance\n",
    "Variance is another number that indicates how spread out the values are.\n",
    "\n",
    "In fact, if you take the square root of the variance, you get the standard deviation!\n",
    "\n",
    "Or the other way around, if you multiply the standard deviation by itself, you get the variance!\n",
    "\n",
    "To calculate the variance you have to do as follows:\n",
    "\n",
    "1. Find the mean:\n",
    "\n",
    "(32+111+138+28+59+77+97) / 7 = 77.4\n",
    "\n",
    "2. For each value: find the difference from the mean:\n",
    "\n",
    " 32 - 77.4 = -45.4\n",
    "111 - 77.4 =  33.6\n",
    "138 - 77.4 =  60.6\n",
    " 28 - 77.4 = -49.4\n",
    " 59 - 77.4 = -18.4\n",
    " 77 - 77.4 = - 0.4\n",
    " 97 - 77.4 =  19.6\n",
    "\n",
    "3. For each difference: find the square value:\n",
    "\n",
    "(-45.4)2 = 2061.16\n",
    " (33.6)2 = 1128.96\n",
    " (60.6)2 = 3672.36\n",
    "(-49.4)2 = 2440.36\n",
    "(-18.4)2 =  338.56\n",
    "(- 0.4)2 =    0.16\n",
    " (19.6)2 =  384.16\n",
    "\n",
    "4. The variance is the average number of these squared differences:\n",
    "\n",
    "(2061.16+1128.96+3672.36+2440.36+338.56+0.16+384.16) / 7 = 1432.2\n",
    "\n",
    "Luckily, NumPy has a method to calculate the variance:\n",
    "\n",
    "Example\n",
    "Use the NumPy var() method to find the variance:\n",
    "'''\n",
    "import numpy as np\n",
    "speed = [32,111,138,28,59,77,97]\n",
    "x = np.var(speed)\n",
    "print(x)"
   ]
  },
  {
   "cell_type": "code",
   "execution_count": 7,
   "id": "17d992c4",
   "metadata": {},
   "outputs": [
    {
     "name": "stdout",
     "output_type": "stream",
     "text": [
      "37.84501153334721\n"
     ]
    }
   ],
   "source": [
    "'''Standard Deviation\n",
    "As we have learned, the formula to find the standard deviation is the square root of the variance:\n",
    "\n",
    "√1432.25 = 37.85\n",
    "\n",
    "Or, as in the example from before, use the NumPy to calculate the standard deviation:\n",
    "\n",
    "Example\n",
    "Use the NumPy std() method to find the standard deviation:\n",
    "\n",
    "Symbols\n",
    "Standard Deviation is often represented by the symbol Sigma: σ\n",
    "\n",
    "Variance is often represented by the symbol Sigma Squared: σ2\n",
    "'''\n",
    "import numpy\n",
    "speed = [32,111,138,28,59,77,97]\n",
    "x = numpy.std(speed)\n",
    "\n",
    "print(x)"
   ]
  },
  {
   "cell_type": "markdown",
   "id": "62e9c2ee",
   "metadata": {},
   "source": [
    "# Machine Learning - Percentiles"
   ]
  },
  {
   "cell_type": "code",
   "execution_count": 8,
   "id": "aa014ddb",
   "metadata": {},
   "outputs": [
    {
     "name": "stdout",
     "output_type": "stream",
     "text": [
      "43.0\n"
     ]
    }
   ],
   "source": [
    "'''What are Percentiles?\n",
    "Percentiles are used in statistics to give you a number that describes the value that a given percent of the values are lower than.\n",
    "\n",
    "Example: Let's say we have an array that contains the ages of every person living on a street.\n",
    "\n",
    "ages = [5,31,43,48,50,41,7,11,15,39,80,82,32,2,8,6,25,36,27,61,31]\n",
    "\n",
    "What is the 75. percentile? The answer is 43, meaning that 75% of the people are 43 or younger.\n",
    "\n",
    "The NumPy module has a method for finding the specified percentile:\n",
    "'''\n",
    "#Use the NumPy percentile() method to find the percentiles:\n",
    "import numpy as np\n",
    "ages = [5,31,43,48,50,41,7,11,15,39,80,82,32,2,8,6,25,36,27,61,31]\n",
    "x = np.percentile(ages, 75)\n",
    "print(x)"
   ]
  },
  {
   "cell_type": "markdown",
   "id": "ba669fc0",
   "metadata": {},
   "source": [
    "# Machine Learning - Data Distribution"
   ]
  },
  {
   "cell_type": "code",
   "execution_count": 9,
   "id": "468048a3",
   "metadata": {},
   "outputs": [
    {
     "name": "stdout",
     "output_type": "stream",
     "text": [
      "[0.8622266  1.23346887 0.845782   2.86719304 2.46881125 3.30724036\n",
      " 0.64055202 0.37772333 0.4994319  0.60524792 1.75123726 1.77382723\n",
      " 3.36267735 2.26927348 0.55394112 0.49754275 4.36007755 4.64497046\n",
      " 3.92356047 0.04830356 4.1390937  3.45302422 0.13197212 3.19340953\n",
      " 2.30240172 0.26870418 3.18962102 0.77012349 0.17937611 0.29387429\n",
      " 3.21478944 4.18657226 0.27019432 4.05691572 0.72334237 0.73334486\n",
      " 3.97590885 1.33281793 2.20596659 1.05579809 3.63973292 4.38427331\n",
      " 0.93250209 4.64399894 4.76677372 3.65391359 4.10948577 2.42122107\n",
      " 1.36580923 2.93605282 3.89333288 0.92556804 2.80202277 2.4128669\n",
      " 2.14716694 2.58259445 2.7489734  2.1449988  3.54872753 2.06901418\n",
      " 0.98984451 0.48662052 3.04608697 1.61299611 2.79590243 2.56471194\n",
      " 2.60831049 3.76407035 2.32033416 0.38878627 1.36732147 4.00395857\n",
      " 3.95291795 4.20077606 1.57480764 1.96243268 2.42097202 4.3150964\n",
      " 4.00567149 4.03722945 3.85764224 0.73397415 4.84003755 0.01618015\n",
      " 4.98936174 1.4622813  4.73408952 0.68139954 0.39407138 4.40752417\n",
      " 0.72648348 0.78443492 1.69522011 3.14450778 2.14712965 0.22434553\n",
      " 4.85583772 4.60201732 4.0216858  2.94865885 4.2129948  1.77519526\n",
      " 1.74172111 0.72194228 2.64845447 0.59508854 4.60395964 0.53333311\n",
      " 4.08057894 4.28990635 0.43398319 4.32348529 4.6355666  4.12239084\n",
      " 2.70149135 2.01371437 3.23592635 4.231041   3.73655812 0.73665958\n",
      " 0.30863891 2.20735597 3.19226068 0.58580183 3.42497672 3.67568426\n",
      " 1.81975693 0.69197621 0.87202268 3.36119493 2.26733815 1.94239085\n",
      " 3.99591476 1.7093681  0.50268476 4.06101914 2.99382818 0.69099711\n",
      " 1.34448777 3.92802668 2.37140847 4.45057972 1.97235516 1.43961421\n",
      " 1.83890778 3.16482244 4.56725279 1.50283629 4.54175916 2.33470044\n",
      " 1.2414763  4.54380426 4.61342479 0.69051926 1.33041899 1.78675369\n",
      " 2.09701824 3.36578443 1.54185666 0.54098297 0.31713316 1.83289671\n",
      " 1.25045281 1.42759039 1.82477767 4.13377202 1.61149789 4.03860344\n",
      " 4.40697355 3.09459782 0.70168534 0.38777378 4.53800904 1.61183486\n",
      " 4.31410942 1.76086733 1.97180698 3.56237025 4.63503641 0.63724782\n",
      " 1.82987559 1.26247823 4.51348715 3.57234214 0.94050839 0.21578834\n",
      " 4.28783834 2.41636123 2.71204333 0.66715291 4.17281453 1.47339751\n",
      " 1.52991621 0.8540474  3.53673448 2.27116818 3.56826884 3.22745486\n",
      " 2.73519035 2.0420233  4.68636478 1.54773197 3.41567307 2.17134424\n",
      " 4.37108727 0.99462442 4.62064498 2.53700651 4.08105798 1.58851031\n",
      " 4.54173689 3.10945972 4.25549602 4.1714557  0.96008696 0.42498235\n",
      " 0.65433271 3.43034692 4.69979109 4.5587249  3.04168242 1.02741712\n",
      " 2.52067622 2.63802197 1.05521391 4.42899479 4.63409388 3.61403388\n",
      " 3.45341172 4.82068463 1.81011273 0.32909471 4.41345366 0.8987247\n",
      " 3.16339812 4.00041533 4.57799124 2.57300472 0.07786525 2.12467195\n",
      " 0.79847793 4.08866948 0.09381504 2.8628026  3.44755306 0.25601787\n",
      " 1.74047781 4.63331804 0.50703006 4.4899716 ]\n"
     ]
    }
   ],
   "source": [
    "'''Data Distribution\n",
    "Earlier in this tutorial we have worked with very small amounts of data in our examples, just to understand the different concepts.\n",
    "\n",
    "In the real world, the data sets are much bigger, but it can be difficult to gather real world data, at least at an early stage of a project.\n",
    "\n",
    "How Can we Get Big Data Sets?\n",
    "To create big data sets for testing, we use the Python module NumPy, which comes with a number of methods to create random data sets, of any size.\n",
    "'''\n",
    "#Create an array containing 250 random floats between 0 and 5:\n",
    "import numpy as np\n",
    "x = numpy.random.uniform(0.0, 5.0, 250)\n",
    "print(x)"
   ]
  },
  {
   "cell_type": "markdown",
   "id": "efae3ec7",
   "metadata": {},
   "source": [
    "# Histogram"
   ]
  },
  {
   "cell_type": "code",
   "execution_count": 10,
   "id": "9bdb5625",
   "metadata": {},
   "outputs": [
    {
     "data": {
      "image/png": "[encoded data removed]",
      "text/plain": [
       "<Figure size 432x288 with 1 Axes>"
      ]
     },
     "metadata": {
      "needs_background": "light"
     },
     "output_type": "display_data"
    }
   ],
   "source": [
    "'''To visualize the data set we can draw a histogram with the data we collected.\n",
    "\n",
    "We will use the Python module Matplotlib to draw a histogram.\n",
    "\n",
    "Learn about the Matplotlib module in our Matplotlib Tutorial.\n",
    "\n",
    "Example\n",
    "Draw a histogram:\n",
    "'''\n",
    "import numpy as np\n",
    "import matplotlib.pyplot as plt\n",
    "x = numpy.random.uniform(0.0, 5.0, 250)\n",
    "plt.hist(x, 5)\n",
    "plt.show()"
   ]
  },
  {
   "cell_type": "code",
   "execution_count": 11,
   "id": "9fc8d261",
   "metadata": {},
   "outputs": [
    {
     "data": {
      "image/png": "[encoded data removed]",
      "text/plain": [
       "<Figure size 432x288 with 1 Axes>"
      ]
     },
     "metadata": {
      "needs_background": "light"
     },
     "output_type": "display_data"
    }
   ],
   "source": [
    "'''Big Data Distributions\n",
    "An array containing 250 values is not considered very big, but now you know how to create a random set of values, and by changing the parameters, you can create the data set as big as you want.\n",
    "\n",
    "Example\n",
    "Create an array with 100000 random numbers, and display them using a histogram with 100 bars:\n",
    "'''\n",
    "import numpy\n",
    "import matplotlib.pyplot as plt\n",
    "\n",
    "x = numpy.random.uniform(0.0, 5.0, 100000)\n",
    "\n",
    "plt.hist(x, 100)\n",
    "plt.show()"
   ]
  },
  {
   "cell_type": "markdown",
   "id": "e2b5a031",
   "metadata": {},
   "source": [
    "# Machine Learning - Normal Data Distribution"
   ]
  },
  {
   "cell_type": "code",
   "execution_count": 12,
   "id": "29510a8a",
   "metadata": {},
   "outputs": [
    {
     "data": {
      "image/png": "[encoded data removed]",
      "text/plain": [
       "<Figure size 432x288 with 1 Axes>"
      ]
     },
     "metadata": {
      "needs_background": "light"
     },
     "output_type": "display_data"
    }
   ],
   "source": [
    "'''Normal Data Distribution\n",
    "In the previous chapter we learned how to create a completely random array, of a given size, and between two given values.\n",
    "\n",
    "In this chapter we will learn how to create an array where the values are concentrated around a given value.\n",
    "\n",
    "In probability theory this kind of data distribution is known as the normal data distribution, or the Gaussian data distribution, after the mathematician Carl Friedrich Gauss who came up with the formula of this data distribution.\n",
    "'''\n",
    "#A typical normal data distribution:\n",
    "import numpy as np\n",
    "import matplotlib.pyplot as plt\n",
    "\n",
    "x = numpy.random.normal(5.0, 1.0, 100000)\n",
    "plt.hist(x, 100)\n",
    "plt.show()"
   ]
  },
  {
   "cell_type": "code",
   "execution_count": null,
   "id": "7d1a7527",
   "metadata": {},
   "outputs": [],
   "source": [
    "'''Note: A normal distribution graph is also known as the bell curve because of it's characteristic shape of a bell.\n",
    "\n",
    "Histogram Explained\n",
    "We use the array from the numpy.random.normal() method, with 100000 values,  to draw a histogram with 100 bars.\n",
    "\n",
    "We specify that the mean value is 5.0, and the standard deviation is 1.0.\n",
    "\n",
    "Meaning that the values should be concentrated around 5.0, and rarely further away than 1.0 from the mean.\n",
    "\n",
    "And as you can see from the histogram, most values are between 4.0 and 6.0, with a top at approximately 5.0.'''"
   ]
  },
  {
   "cell_type": "markdown",
   "id": "ee52289f",
   "metadata": {},
   "source": [
    "# Machine Learning - Scatter Plot"
   ]
  },
  {
   "cell_type": "code",
   "execution_count": 13,
   "id": "6e6df1cd",
   "metadata": {},
   "outputs": [
    {
     "data": {
      "image/png": "[encoded data removed]",
      "text/plain": [
       "<Figure size 432x288 with 1 Axes>"
      ]
     },
     "metadata": {
      "needs_background": "light"
     },
     "output_type": "display_data"
    }
   ],
   "source": [
    "'''A scatter plot is a diagram where each value in the data set is represented by a dot.\n",
    "The Matplotlib module has a method for drawing scatter plots, it needs two arrays of the same length, one for the values of the x-axis, and one for the values of the y-axis:\n",
    "\n",
    "x = [5,7,8,7,2,17,2,9,4,11,12,9,6]\n",
    "\n",
    "y = [99,86,87,88,111,86,103,87,94,78,77,85,86]\n",
    "\n",
    "The x array represents the age of each car.\n",
    "\n",
    "The y array represents the speed of each car.\n",
    "'''\n",
    "#Use the scatter() method to draw a scatter plot diagram:\n",
    "import matplotlib.pyplot as plt\n",
    "\n",
    "x = [5,7,8,7,2,17,2,9,4,11,12,9,6]\n",
    "y = [99,86,87,88,111,86,103,87,94,78,77,85,86]\n",
    "\n",
    "plt.scatter(x, y)\n",
    "plt.show()"
   ]
  },
  {
   "cell_type": "code",
   "execution_count": null,
   "id": "b839569e",
   "metadata": {},
   "outputs": [],
   "source": [
    "'''Random Data Distributions\n",
    "In Machine Learning the data sets can contain thousands-, or even millions, of values.\n",
    "\n",
    "You might not have real world data when you are testing an algorithm, you might have to use randomly generated values.\n",
    "\n",
    "As we have learned in the previous chapter, the NumPy module can help us with that!\n",
    "\n",
    "Let us create two arrays that are both filled with 1000 random numbers from a normal data distribution.\n",
    "\n",
    "The first array will have the mean set to 5.0 with a standard deviation of 1.0.\n",
    "\n",
    "The second array will have the mean set to 10.0 with a standard deviation of 2.0:\n",
    "\n",
    "Example\n",
    "A scatter plot with 1000 dots:\n",
    "'''"
   ]
  },
  {
   "cell_type": "code",
   "execution_count": null,
   "id": "5a0c07a5",
   "metadata": {},
   "outputs": [],
   "source": []
  }
 ],
 "metadata": {
  "kernelspec": {
   "display_name": "Python 3",
   "language": "python",
   "name": "python3"
  },
  "language_info": {
   "codemirror_mode": {
    "name": "ipython",
    "version": 3
   },
   "file_extension": ".py",
   "mimetype": "text/x-python",
   "name": "python",
   "nbconvert_exporter": "python",
   "pygments_lexer": "ipython3",
   "version": "3.8.8"
  }
 },
 "nbformat": 4,
 "nbformat_minor": 5
}
