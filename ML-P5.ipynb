{
 "cells": [
  {
   "cell_type": "markdown",
   "id": "4fd2c03d",
   "metadata": {},
   "source": [
    "# Machine Learning - Grid Search"
   ]
  },
  {
   "cell_type": "code",
   "execution_count": 1,
   "id": "4491ca9b",
   "metadata": {},
   "outputs": [
    {
     "name": "stdout",
     "output_type": "stream",
     "text": [
      "LogisticRegression(max_iter=10000)\n",
      "0.9733333333333334\n"
     ]
    }
   ],
   "source": [
    "'''Grid Search\n",
    "The majority of machine learning models contain parameters that can be adjusted to vary how the model learns. For example, the logistic regression model, from sklearn, has a parameter C that controls regularization,which affects the complexity of the model.\n",
    "\n",
    "How do we pick the best value for C? The best value is dependent on the data used to train the model.\n",
    "\n",
    "How does it work?\n",
    "One method is to try out different values and then pick the value that gives the best score. This technique is known as a grid search. If we had to select the values for two or more parameters, we would evaluate all combinations of the sets of values thus forming a grid of values.\n",
    "\n",
    "Before we get into the example it is good to know what the parameter we are changing does. Higher values of C tell the model, the training data resembles real world information, place a greater weight on the training data. While lower values of C do the opposite.\n",
    "\n",
    "Using Default Parameters\n",
    "First let's see what kind of results we can generate without a grid search using only the base parameters.\n",
    "\n",
    "To get started we must first load in the dataset we will be working with.\n",
    "from sklearn import datasets\n",
    "iris = datasets.load_iris()\n",
    "\n",
    "Next in order to create the model we must have a set of independent variables X and a dependant variable y.\n",
    "\n",
    "X = iris['data']\n",
    "y = iris['target']\n",
    "\n",
    "Now we will load the logistic model for classifying the iris flowers.\n",
    "\n",
    "from sklearn.linear_model import LogisticRegression\n",
    "\n",
    "Creating the model, setting max_iter to a higher value to ensure that the model finds a result.\n",
    "\n",
    "Keep in mind the default value for C in a logistic regression model is 1, we will compare this later.\n",
    "\n",
    "In the example below, we look at the iris data set and try to train a model with varying values for C in logistic regression.\n",
    "\n",
    "logit = LogisticRegression(max_iter = 10000)\n",
    "\n",
    "After we create the model, we must fit the model to the data.\n",
    "\n",
    "print(logit.fit(X,y))\n",
    "\n",
    "To evaluate the model we run the score method.\n",
    "\n",
    "print(logit.score(X,y))\n",
    "\n",
    "Example\n",
    "'''\n",
    "from sklearn import datasets\n",
    "from sklearn.linear_model import LogisticRegression\n",
    "\n",
    "iris = datasets.load_iris()\n",
    "\n",
    "x = iris['data']\n",
    "y = iris['target']\n",
    "logit = LogisticRegression(max_iter = 10000)\n",
    "\n",
    "print(logit.fit(x,y))\n",
    "print(logit.score(x,y))"
   ]
  },
  {
   "cell_type": "code",
   "execution_count": 4,
   "id": "6c7b954f",
   "metadata": {
    "scrolled": true
   },
   "outputs": [
    {
     "name": "stdout",
     "output_type": "stream",
     "text": [
      "[0.9666666666666667, 0.9666666666666667, 0.9733333333333334, 0.9733333333333334, 0.98, 0.98, 0.9866666666666667, 0.9866666666666667]\n"
     ]
    }
   ],
   "source": [
    "'''With the default setting of C = 1, we achieved a score of 0.973.\n",
    "\n",
    "Let's see if we can do any better by implementing a grid search with difference values of 0.973.\n",
    "\n",
    "Implementing Grid Search\n",
    "We will follow the same steps of before except this time we will set a range of values for C.\n",
    "\n",
    "Knowing which values to set for the searched parameters will take a combination of domain knowledge and practice.\n",
    "\n",
    "Since the default value for C is 1, we will set a range of values surrounding it.\n",
    "\n",
    "C = [0.25, 0.5, 0.75, 1, 1.25, 1.5, 1.75, 2]\n",
    "\n",
    "Next we will create a for loop to change out the values of C and evaluate the model with each change.\n",
    "\n",
    "First we will create an empty list to store the score within.\n",
    "\n",
    "scores = []\n",
    "\n",
    "To change the values of C we must loop over the range of values and update the parameter each time.\n",
    "\n",
    "for choice in C:\n",
    "  logit.set_params(C=choice)\n",
    "  logit.fit(X, y)\n",
    "  scores.append(logit.score(X, y))\n",
    "\n",
    "With the scores stored in a list, we can evaluate what the best choice of C is.\n",
    "\n",
    "print(scores)\n",
    "'''\n",
    "from sklearn import datasets\n",
    "from sklearn.linear_model import LogisticRegression\n",
    "\n",
    "iris = datasets.load_iris()\n",
    "\n",
    "X = iris['data']\n",
    "y = iris['target']\n",
    "\n",
    "logit = LogisticRegression(max_iter = 10000)\n",
    "\n",
    "C = [0.25, 0.5, 0.75, 1, 1.25, 1.5, 1.75, 2]\n",
    "\n",
    "scores = []\n",
    "\n",
    "for choice in C:\n",
    "            logit.set_params(C=choice)\n",
    "            logit.fit(X, y)\n",
    "            scores.append(logit.score(X, y))\n",
    "\n",
    "print(scores)"
   ]
  },
  {
   "cell_type": "code",
   "execution_count": null,
   "id": "f0472e07",
   "metadata": {},
   "outputs": [],
   "source": [
    "'''Results Explained\n",
    "We can see that the lower values of C performed worse than the base parameter of 1. However, as we increased the value of C to 1.75 the model experienced increased accuracy.\n",
    "\n",
    "It seems that increasing C beyond this amount does not help increase model accuracy.'''"
   ]
  },
  {
   "cell_type": "markdown",
   "id": "13e45e15",
   "metadata": {},
   "source": [
    "# Preprocessing - Categorical Data"
   ]
  },
  {
   "cell_type": "code",
   "execution_count": 6,
   "id": "cc95d579",
   "metadata": {},
   "outputs": [
    {
     "name": "stdout",
     "output_type": "stream",
     "text": [
      "           Car       Model  Volume  Weight  CO2\n",
      "0       Toyoty        Aygo    1000     790   99\n",
      "1   Mitsubishi  Space Star    1200    1160   95\n",
      "2        Skoda      Citigo    1000     929   95\n",
      "3         Fiat         500     900     865   90\n",
      "4         Mini      Cooper    1500    1140  105\n",
      "5           VW         Up!    1000     929  105\n",
      "6        Skoda       Fabia    1400    1109   90\n",
      "7     Mercedes     A-Class    1500    1365   92\n",
      "8         Ford      Fiesta    1500    1112   98\n",
      "9         Audi          A1    1600    1150   99\n",
      "10     Hyundai         I20    1100     980   99\n",
      "11      Suzuki       Swift    1300     990  101\n",
      "12        Ford      Fiesta    1000    1112   99\n",
      "13       Honda       Civic    1600    1252   94\n",
      "14      Hundai         I30    1600    1326   97\n",
      "15        Opel       Astra    1600    1330   97\n",
      "16         BMW           1    1600    1365   99\n",
      "17       Mazda           3    2200    1280  104\n",
      "18       Skoda       Rapid    1600    1119  104\n",
      "19        Ford       Focus    2000    1328  105\n",
      "20        Ford      Mondeo    1600    1584   94\n",
      "21        Opel    Insignia    2000    1428   99\n",
      "22    Mercedes     C-Class    2100    1365   99\n",
      "23       Skoda     Octavia    1600    1415   99\n",
      "24       Volvo         S60    2000    1415   99\n",
      "25    Mercedes         CLA    1500    1465  102\n",
      "26        Audi          A4    2000    1490  104\n",
      "27        Audi          A6    2000    1725  114\n",
      "28       Volvo         V70    1600    1523  109\n",
      "29         BMW           5    2000    1705  114\n",
      "30    Mercedes     E-Class    2100    1605  115\n",
      "31       Volvo        XC70    2000    1746  117\n",
      "32        Ford       B-Max    1600    1235  104\n",
      "33         BMW         216    1600    1390  108\n",
      "34        Opel      Zafira    1600    1405  109\n",
      "35    Mercedes         SLK    2500    1395  120\n"
     ]
    }
   ],
   "source": [
    "'''When your data has categories represented by strings, it will be difficult to use them to train machine learning models which often only accepts numeric data.\n",
    "\n",
    "Instead of ignoring the categorical data and excluding the information from our model, you can tranform the data so it can be used in your models.\n",
    "'''\n",
    "import pandas as pd\n",
    "\n",
    "cars = pd.read_csv('data2.csv')\n",
    "print(cars.to_string())"
   ]
  },
  {
   "cell_type": "code",
   "execution_count": 7,
   "id": "c41d2859",
   "metadata": {
    "scrolled": false
   },
   "outputs": [
    {
     "name": "stdout",
     "output_type": "stream",
     "text": [
      "    Car_Audi  Car_BMW  Car_Fiat  Car_Ford  Car_Honda  Car_Hundai  Car_Hyundai  Car_Mazda  Car_Mercedes  Car_Mini  Car_Mitsubishi  Car_Opel  Car_Skoda  Car_Suzuki  Car_Toyoty  Car_VW  Car_Volvo\n",
      "0          0        0         0         0          0           0            0          0             0         0               0         0          0           0           1       0          0\n",
      "1          0        0         0         0          0           0            0          0             0         0               1         0          0           0           0       0          0\n",
      "2          0        0         0         0          0           0            0          0             0         0               0         0          1           0           0       0          0\n",
      "3          0        0         1         0          0           0            0          0             0         0               0         0          0           0           0       0          0\n",
      "4          0        0         0         0          0           0            0          0             0         1               0         0          0           0           0       0          0\n",
      "5          0        0         0         0          0           0            0          0             0         0               0         0          0           0           0       1          0\n",
      "6          0        0         0         0          0           0            0          0             0         0               0         0          1           0           0       0          0\n",
      "7          0        0         0         0          0           0            0          0             1         0               0         0          0           0           0       0          0\n",
      "8          0        0         0         1          0           0            0          0             0         0               0         0          0           0           0       0          0\n",
      "9          1        0         0         0          0           0            0          0             0         0               0         0          0           0           0       0          0\n",
      "10         0        0         0         0          0           0            1          0             0         0               0         0          0           0           0       0          0\n",
      "11         0        0         0         0          0           0            0          0             0         0               0         0          0           1           0       0          0\n",
      "12         0        0         0         1          0           0            0          0             0         0               0         0          0           0           0       0          0\n",
      "13         0        0         0         0          1           0            0          0             0         0               0         0          0           0           0       0          0\n",
      "14         0        0         0         0          0           1            0          0             0         0               0         0          0           0           0       0          0\n",
      "15         0        0         0         0          0           0            0          0             0         0               0         1          0           0           0       0          0\n",
      "16         0        1         0         0          0           0            0          0             0         0               0         0          0           0           0       0          0\n",
      "17         0        0         0         0          0           0            0          1             0         0               0         0          0           0           0       0          0\n",
      "18         0        0         0         0          0           0            0          0             0         0               0         0          1           0           0       0          0\n",
      "19         0        0         0         1          0           0            0          0             0         0               0         0          0           0           0       0          0\n",
      "20         0        0         0         1          0           0            0          0             0         0               0         0          0           0           0       0          0\n",
      "21         0        0         0         0          0           0            0          0             0         0               0         1          0           0           0       0          0\n",
      "22         0        0         0         0          0           0            0          0             1         0               0         0          0           0           0       0          0\n",
      "23         0        0         0         0          0           0            0          0             0         0               0         0          1           0           0       0          0\n",
      "24         0        0         0         0          0           0            0          0             0         0               0         0          0           0           0       0          1\n",
      "25         0        0         0         0          0           0            0          0             1         0               0         0          0           0           0       0          0\n",
      "26         1        0         0         0          0           0            0          0             0         0               0         0          0           0           0       0          0\n",
      "27         1        0         0         0          0           0            0          0             0         0               0         0          0           0           0       0          0\n",
      "28         0        0         0         0          0           0            0          0             0         0               0         0          0           0           0       0          1\n",
      "29         0        1         0         0          0           0            0          0             0         0               0         0          0           0           0       0          0\n",
      "30         0        0         0         0          0           0            0          0             1         0               0         0          0           0           0       0          0\n",
      "31         0        0         0         0          0           0            0          0             0         0               0         0          0           0           0       0          1\n",
      "32         0        0         0         1          0           0            0          0             0         0               0         0          0           0           0       0          0\n",
      "33         0        1         0         0          0           0            0          0             0         0               0         0          0           0           0       0          0\n",
      "34         0        0         0         0          0           0            0          0             0         0               0         1          0           0           0       0          0\n",
      "35         0        0         0         0          0           0            0          0             1         0               0         0          0           0           0       0          0\n"
     ]
    }
   ],
   "source": [
    "'''One Hot Encoding\n",
    "We cannot make use of the Car or Model column in our data since they are not numeric. A linear relationship between a categorical variable, Car or Model, and a numeric variable, CO2, cannot be determined.\n",
    "\n",
    "To fix this issue, we must have a numeric representation of the categorical variable. One way to do this is to have a column representing each group in the category.\n",
    "\n",
    "For each column, the values will be 1 or 0 where 1 represents the inclusion of the group and 0 represents the exclusion. This transformation is called one hot encoding.\n",
    "\n",
    "You do not have to do this manually, the Python Pandas module has a function that called get_dummies() which does one hot encoding.\n",
    "'''\n",
    "# import pandas as pd\n",
    "\n",
    "# cars = pd.read_csv('data2.csv')\n",
    "ohe_cars = pd.get_dummies(cars[['Car']])\n",
    "\n",
    "print(ohe_cars.to_string())"
   ]
  },
  {
   "cell_type": "code",
   "execution_count": 10,
   "id": "56689224",
   "metadata": {},
   "outputs": [
    {
     "name": "stdout",
     "output_type": "stream",
     "text": [
      "[122.45153299]\n"
     ]
    }
   ],
   "source": [
    "'''Predict CO2\n",
    "We can use this additional information alongside the volume and weight to predict CO2\n",
    "\n",
    "To combine the information, we can use the concat() function from pandas.\n",
    "\n",
    "First we will need to import a couple modules.\n",
    "\n",
    "We will start with importing the Pandas.\n",
    "\n",
    "import pandas\n",
    "\n",
    "The pandas module allows us to read csv files and manipulate DataFrame objects:\n",
    "\n",
    "cars = pandas.read_csv(\"data.csv\")\n",
    "\n",
    "It also allows us to create the dummy variables:\n",
    "\n",
    "ohe_cars = pandas.get_dummies(cars[['Car']])\n",
    "\n",
    "Then we must select the independent variables (X) and add the dummy variables columnwise.\n",
    "\n",
    "Also store the dependent variable in y.\n",
    "\n",
    "X = pandas.concat([cars[['Volume', 'Weight']], ohe_cars], axis=1)\n",
    "y = cars['CO2']\n",
    "\n",
    "We also need to import a method from sklearn to create a linear model\n",
    "\n",
    "Learn about linear regression.\n",
    "\n",
    "from sklearn import linear_model\n",
    "\n",
    "Now we can fit the data to a linear regression:\n",
    "\n",
    "regr = linear_model.LinearRegression()\n",
    "regr.fit(X,y)\n",
    "\n",
    "Finally we can predict the CO2 emissions based on the car's weight, volume, and manufacturer.\n",
    "\n",
    "##predict the CO2 emission of a VW where the weight is 2300kg, and the volume is 1300cm3:\n",
    "predictedCO2 = regr.predict([[2300, 1300,0,0,0,0,0,0,0,0,0,0,0,0,0,0,0,1,0]])\n",
    "\n",
    "Example'''\n",
    "\n",
    "import pandas as pd\n",
    "from sklearn import linear_model\n",
    "\n",
    "cars = pd.read_csv('data2.csv')\n",
    "\n",
    "x = pd.concat([cars[['Volume','Weight']], ohe_cars], axis=1)\n",
    "y = cars['CO2']\n",
    "\n",
    "regr = linear_model.LinearRegression()\n",
    "regr.fit(x,y)\n",
    "\n",
    "##predict the CO2 emission of a VW where the weight is 2300kg, and the volume is 1300cm3:\n",
    "predictedCO2 = regr.predict([[2300, 1300,0,0,0,0,0,0,0,0,0,0,0,0,0,0,0,1,0]])\n",
    "\n",
    "print(predictedCO2)"
   ]
  },
  {
   "cell_type": "code",
   "execution_count": 11,
   "id": "023777f5",
   "metadata": {},
   "outputs": [
    {
     "name": "stdout",
     "output_type": "stream",
     "text": [
      "  color\n",
      "0  blue\n",
      "1   red\n"
     ]
    }
   ],
   "source": [
    "'''Dummifying\n",
    "It is not necessary to create one column for each group in your category. The information can be retained using 1 column less than the number of groups you have.\n",
    "\n",
    "For example, you have a column representing colors and in that column, you have two colors, red and blue.\n",
    "'''\n",
    "import pandas as pd\n",
    "\n",
    "colors = pd.DataFrame({'color': ['blue', 'red']})\n",
    "\n",
    "print(colors)"
   ]
  },
  {
   "cell_type": "code",
   "execution_count": 12,
   "id": "d46d7262",
   "metadata": {},
   "outputs": [
    {
     "name": "stdout",
     "output_type": "stream",
     "text": [
      "   color_red\n",
      "0          0\n",
      "1          1\n"
     ]
    }
   ],
   "source": [
    "'''You can create 1 column called red where 1 represents red and 0 represents not red, which means it is blue.\n",
    "\n",
    "To do this, we can use the same function that we used for one hot encoding, get_dummies, and then drop one of the columns. There is an argument, drop_first, which allows us to exclude the first column from the resulting table.\n",
    "'''\n",
    "import pandas as pd\n",
    "\n",
    "colors = pd.DataFrame({'color': ['blue', 'red']})\n",
    "dummies = pd.get_dummies(colors, drop_first=True)\n",
    "\n",
    "print(dummies)"
   ]
  },
  {
   "cell_type": "code",
   "execution_count": 13,
   "id": "3ce0eac0",
   "metadata": {},
   "outputs": [
    {
     "ename": "KeyError",
     "evalue": "'color'",
     "output_type": "error",
     "traceback": [
      "\u001b[1;31m---------------------------------------------------------------------------\u001b[0m",
      "\u001b[1;31mKeyError\u001b[0m                                  Traceback (most recent call last)",
      "\u001b[1;32md:\\Users\\Owais\\anaconda3\\lib\\site-packages\\pandas\\core\\indexes\\base.py\u001b[0m in \u001b[0;36mget_loc\u001b[1;34m(self, key, method, tolerance)\u001b[0m\n\u001b[0;32m   3079\u001b[0m             \u001b[1;32mtry\u001b[0m\u001b[1;33m:\u001b[0m\u001b[1;33m\u001b[0m\u001b[1;33m\u001b[0m\u001b[0m\n\u001b[1;32m-> 3080\u001b[1;33m                 \u001b[1;32mreturn\u001b[0m \u001b[0mself\u001b[0m\u001b[1;33m.\u001b[0m\u001b[0m_engine\u001b[0m\u001b[1;33m.\u001b[0m\u001b[0mget_loc\u001b[0m\u001b[1;33m(\u001b[0m\u001b[0mcasted_key\u001b[0m\u001b[1;33m)\u001b[0m\u001b[1;33m\u001b[0m\u001b[1;33m\u001b[0m\u001b[0m\n\u001b[0m\u001b[0;32m   3081\u001b[0m             \u001b[1;32mexcept\u001b[0m \u001b[0mKeyError\u001b[0m \u001b[1;32mas\u001b[0m \u001b[0merr\u001b[0m\u001b[1;33m:\u001b[0m\u001b[1;33m\u001b[0m\u001b[1;33m\u001b[0m\u001b[0m\n",
      "\u001b[1;32mpandas\\_libs\\index.pyx\u001b[0m in \u001b[0;36mpandas._libs.index.IndexEngine.get_loc\u001b[1;34m()\u001b[0m\n",
      "\u001b[1;32mpandas\\_libs\\index.pyx\u001b[0m in \u001b[0;36mpandas._libs.index.IndexEngine.get_loc\u001b[1;34m()\u001b[0m\n",
      "\u001b[1;32mpandas\\_libs\\hashtable_class_helper.pxi\u001b[0m in \u001b[0;36mpandas._libs.hashtable.PyObjectHashTable.get_item\u001b[1;34m()\u001b[0m\n",
      "\u001b[1;32mpandas\\_libs\\hashtable_class_helper.pxi\u001b[0m in \u001b[0;36mpandas._libs.hashtable.PyObjectHashTable.get_item\u001b[1;34m()\u001b[0m\n",
      "\u001b[1;31mKeyError\u001b[0m: 'color'",
      "\nThe above exception was the direct cause of the following exception:\n",
      "\u001b[1;31mKeyError\u001b[0m                                  Traceback (most recent call last)",
      "\u001b[1;32m<ipython-input-13-feb5b8308221>\u001b[0m in \u001b[0;36m<module>\u001b[1;34m\u001b[0m\n\u001b[0;32m      7\u001b[0m \u001b[0mcolors\u001b[0m \u001b[1;33m=\u001b[0m \u001b[0mpd\u001b[0m\u001b[1;33m.\u001b[0m\u001b[0mDataFrame\u001b[0m\u001b[1;33m(\u001b[0m\u001b[1;33m{\u001b[0m\u001b[1;34m'colors'\u001b[0m\u001b[1;33m:\u001b[0m \u001b[1;33m[\u001b[0m\u001b[1;34m'blue'\u001b[0m\u001b[1;33m,\u001b[0m \u001b[1;34m'red'\u001b[0m\u001b[1;33m,\u001b[0m \u001b[1;34m'green'\u001b[0m\u001b[1;33m]\u001b[0m\u001b[1;33m}\u001b[0m\u001b[1;33m)\u001b[0m\u001b[1;33m\u001b[0m\u001b[1;33m\u001b[0m\u001b[0m\n\u001b[0;32m      8\u001b[0m \u001b[0mdummies\u001b[0m \u001b[1;33m=\u001b[0m \u001b[0mpd\u001b[0m\u001b[1;33m.\u001b[0m\u001b[0mget_dummies\u001b[0m\u001b[1;33m(\u001b[0m\u001b[0mcolors\u001b[0m\u001b[1;33m,\u001b[0m \u001b[0mdrop_first\u001b[0m \u001b[1;33m=\u001b[0m \u001b[1;32mTrue\u001b[0m\u001b[1;33m)\u001b[0m\u001b[1;33m\u001b[0m\u001b[1;33m\u001b[0m\u001b[0m\n\u001b[1;32m----> 9\u001b[1;33m \u001b[0mdummies\u001b[0m\u001b[1;33m[\u001b[0m\u001b[1;34m'color'\u001b[0m\u001b[1;33m]\u001b[0m \u001b[1;33m=\u001b[0m \u001b[0mcolors\u001b[0m\u001b[1;33m[\u001b[0m\u001b[1;34m'color'\u001b[0m\u001b[1;33m]\u001b[0m\u001b[1;33m\u001b[0m\u001b[1;33m\u001b[0m\u001b[0m\n\u001b[0m\u001b[0;32m     10\u001b[0m \u001b[1;33m\u001b[0m\u001b[0m\n\u001b[0;32m     11\u001b[0m \u001b[0mprint\u001b[0m\u001b[1;33m(\u001b[0m\u001b[0mdummies\u001b[0m\u001b[1;33m)\u001b[0m\u001b[1;33m\u001b[0m\u001b[1;33m\u001b[0m\u001b[0m\n",
      "\u001b[1;32md:\\Users\\Owais\\anaconda3\\lib\\site-packages\\pandas\\core\\frame.py\u001b[0m in \u001b[0;36m__getitem__\u001b[1;34m(self, key)\u001b[0m\n\u001b[0;32m   3022\u001b[0m             \u001b[1;32mif\u001b[0m \u001b[0mself\u001b[0m\u001b[1;33m.\u001b[0m\u001b[0mcolumns\u001b[0m\u001b[1;33m.\u001b[0m\u001b[0mnlevels\u001b[0m \u001b[1;33m>\u001b[0m \u001b[1;36m1\u001b[0m\u001b[1;33m:\u001b[0m\u001b[1;33m\u001b[0m\u001b[1;33m\u001b[0m\u001b[0m\n\u001b[0;32m   3023\u001b[0m                 \u001b[1;32mreturn\u001b[0m \u001b[0mself\u001b[0m\u001b[1;33m.\u001b[0m\u001b[0m_getitem_multilevel\u001b[0m\u001b[1;33m(\u001b[0m\u001b[0mkey\u001b[0m\u001b[1;33m)\u001b[0m\u001b[1;33m\u001b[0m\u001b[1;33m\u001b[0m\u001b[0m\n\u001b[1;32m-> 3024\u001b[1;33m             \u001b[0mindexer\u001b[0m \u001b[1;33m=\u001b[0m \u001b[0mself\u001b[0m\u001b[1;33m.\u001b[0m\u001b[0mcolumns\u001b[0m\u001b[1;33m.\u001b[0m\u001b[0mget_loc\u001b[0m\u001b[1;33m(\u001b[0m\u001b[0mkey\u001b[0m\u001b[1;33m)\u001b[0m\u001b[1;33m\u001b[0m\u001b[1;33m\u001b[0m\u001b[0m\n\u001b[0m\u001b[0;32m   3025\u001b[0m             \u001b[1;32mif\u001b[0m \u001b[0mis_integer\u001b[0m\u001b[1;33m(\u001b[0m\u001b[0mindexer\u001b[0m\u001b[1;33m)\u001b[0m\u001b[1;33m:\u001b[0m\u001b[1;33m\u001b[0m\u001b[1;33m\u001b[0m\u001b[0m\n\u001b[0;32m   3026\u001b[0m                 \u001b[0mindexer\u001b[0m \u001b[1;33m=\u001b[0m \u001b[1;33m[\u001b[0m\u001b[0mindexer\u001b[0m\u001b[1;33m]\u001b[0m\u001b[1;33m\u001b[0m\u001b[1;33m\u001b[0m\u001b[0m\n",
      "\u001b[1;32md:\\Users\\Owais\\anaconda3\\lib\\site-packages\\pandas\\core\\indexes\\base.py\u001b[0m in \u001b[0;36mget_loc\u001b[1;34m(self, key, method, tolerance)\u001b[0m\n\u001b[0;32m   3080\u001b[0m                 \u001b[1;32mreturn\u001b[0m \u001b[0mself\u001b[0m\u001b[1;33m.\u001b[0m\u001b[0m_engine\u001b[0m\u001b[1;33m.\u001b[0m\u001b[0mget_loc\u001b[0m\u001b[1;33m(\u001b[0m\u001b[0mcasted_key\u001b[0m\u001b[1;33m)\u001b[0m\u001b[1;33m\u001b[0m\u001b[1;33m\u001b[0m\u001b[0m\n\u001b[0;32m   3081\u001b[0m             \u001b[1;32mexcept\u001b[0m \u001b[0mKeyError\u001b[0m \u001b[1;32mas\u001b[0m \u001b[0merr\u001b[0m\u001b[1;33m:\u001b[0m\u001b[1;33m\u001b[0m\u001b[1;33m\u001b[0m\u001b[0m\n\u001b[1;32m-> 3082\u001b[1;33m                 \u001b[1;32mraise\u001b[0m \u001b[0mKeyError\u001b[0m\u001b[1;33m(\u001b[0m\u001b[0mkey\u001b[0m\u001b[1;33m)\u001b[0m \u001b[1;32mfrom\u001b[0m \u001b[0merr\u001b[0m\u001b[1;33m\u001b[0m\u001b[1;33m\u001b[0m\u001b[0m\n\u001b[0m\u001b[0;32m   3083\u001b[0m \u001b[1;33m\u001b[0m\u001b[0m\n\u001b[0;32m   3084\u001b[0m         \u001b[1;32mif\u001b[0m \u001b[0mtolerance\u001b[0m \u001b[1;32mis\u001b[0m \u001b[1;32mnot\u001b[0m \u001b[1;32mNone\u001b[0m\u001b[1;33m:\u001b[0m\u001b[1;33m\u001b[0m\u001b[1;33m\u001b[0m\u001b[0m\n",
      "\u001b[1;31mKeyError\u001b[0m: 'color'"
     ]
    }
   ],
   "source": [
    "'''What if you have more than 2 groups? How can the multiple groups be represented by 1 less column?\n",
    "\n",
    "Let's say we have three colors this time, red, blue and green. When we get_dummies while dropping the first column, we get the following table.\n",
    "'''\n",
    "import pandas as pd\n",
    "\n",
    "colors = pd.DataFrame({'colors': ['blue', 'red', 'green']})\n",
    "dummies = pd.get_dummies(colors, drop_first = True)\n",
    "dummies['color'] = colors['color']\n",
    "\n",
    "print(dummies)"
   ]
  },
  {
   "cell_type": "code",
   "execution_count": null,
   "id": "a74de71f",
   "metadata": {},
   "outputs": [],
   "source": []
  },
  {
   "cell_type": "code",
   "execution_count": null,
   "id": "2a6979bd",
   "metadata": {},
   "outputs": [],
   "source": []
  }
 ],
 "metadata": {
  "kernelspec": {
   "display_name": "Python 3",
   "language": "python",
   "name": "python3"
  },
  "language_info": {
   "codemirror_mode": {
    "name": "ipython",
    "version": 3
   },
   "file_extension": ".py",
   "mimetype": "text/x-python",
   "name": "python",
   "nbconvert_exporter": "python",
   "pygments_lexer": "ipython3",
   "version": "3.8.8"
  }
 },
 "nbformat": 4,
 "nbformat_minor": 5
}
